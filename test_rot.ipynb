{
 "cells": [
  {
   "cell_type": "code",
   "execution_count": 1,
   "metadata": {
    "collapsed": true
   },
   "outputs": [],
   "source": [
    "import numpy as np\n",
    "import os\n"
   ]
  },
  {
   "cell_type": "code",
   "execution_count": 2,
   "outputs": [],
   "source": [
    "def set_camera_location(theta, phi, radius):\n",
    "    def rot_phi(ph):\n",
    "        return np.array([\n",
    "            [1, 0, 0, 0],\n",
    "            [0, np.cos(ph), -np.sin(ph), 0],\n",
    "            [0, np.sin(ph), np.cos(ph), 0],\n",
    "            [0, 0, 0, 1]]).astype(np.float32)\n",
    "\n",
    "    def rot_theta(th):\n",
    "        return np.array([\n",
    "            [np.cos(th), 0, -np.sin(th), 0],\n",
    "            [0, 1, 0, 0],\n",
    "            [np.sin(th), 0, np.cos(th), 0],\n",
    "            [0, 0, 0, 1]]).astype(np.float32)\n",
    "\n",
    "    # def extri_spherical(theta, phi, radius, mesh_scale=1):\n",
    "    extri = rot_theta(theta / 180 * np.pi)\n",
    "    extri = rot_phi(phi / 180 * np.pi) @ extri\n",
    "    trans = np.array([0, 0, -radius, 1]).reshape(-1, 1)\n",
    "    extri = np.concatenate((extri[:, :3], trans), axis=1)\n",
    "    pose = np.linalg.inv(extri)\n",
    "    pose = np.array([[-1, 0, 0, 0],\n",
    "                     [0, 0, 1, 0],\n",
    "                     [0, 1, 0, 0],\n",
    "                     [0, 0, 0, 1]]) @ pose\n",
    "    x, y, z = pose[:3, 3]\n",
    "    return x, y, z, pose\n"
   ],
   "metadata": {
    "collapsed": false
   }
  },
  {
   "cell_type": "code",
   "execution_count": 4,
   "outputs": [
    {
     "data": {
      "text/plain": "(-5.000000298023242, 5.000000298023242, 7.071067932881649)"
     },
     "execution_count": 4,
     "metadata": {},
     "output_type": "execute_result"
    }
   ],
   "source": [
    "x, y, z, pose = set_camera_location(45, 45, 10)\n",
    "x, y, z"
   ],
   "metadata": {
    "collapsed": false
   }
  }
 ],
 "metadata": {
  "kernelspec": {
   "display_name": "Python 3",
   "language": "python",
   "name": "python3"
  },
  "language_info": {
   "codemirror_mode": {
    "name": "ipython",
    "version": 2
   },
   "file_extension": ".py",
   "mimetype": "text/x-python",
   "name": "python",
   "nbconvert_exporter": "python",
   "pygments_lexer": "ipython2",
   "version": "2.7.6"
  }
 },
 "nbformat": 4,
 "nbformat_minor": 0
}
